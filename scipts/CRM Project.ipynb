{
 "cells":[
  {
   "cell_type":"code",
   "source":[
    "import pandas as pd\n",
    "\n",
    "df_chi_channel_segment = pd.read_csv('\/data\/notebook_files\/data\/chi_contingency_table.csv')\n",
    "df_chi_type_segment = pd.read_csv('\/data\/notebook_files\/data\/chi_test_type_segment.csv')\n",
    "df_chi_channel_type = pd.read_csv('\/data\/notebook_files\/data\/chi_test_channel_type.csv')\n",
    "df_anova = pd.read_csv('\/data\/notebook_files\/data\/anova_channel_conversion.csv')\n",
    "df_anova2 = pd.read_csv('\/data\/notebook_files\/data\/anova_segment_rate.csv')\n",
    "df_anova3 = pd.read_csv('\/data\/notebook_files\/data\/anova_type_score.csv')"
   ],
   "execution_count":2,
   "outputs":[],
   "metadata":{
    "datalore":{
     "node_id":"TtIAQ3ofLLzpsIpVkkLiBh",
     "type":"CODE",
     "hide_input_from_viewers":false,
     "hide_output_from_viewers":false,
     "report_properties":{
      "rowId":"YrISyUtxL4XrdLiQQs8MDf",
      "relativeY":0
     }
    }
   }
  },
  {
   "cell_type":"code",
   "source":[
    "print(df_anova.head())"
   ],
   "execution_count":43,
   "outputs":[
    {
     "name":"stdout",
     "text":[
      "  campaign_type   roi\n",
      "0         Email  6.29\n",
      "1         Email  5.61\n",
      "2    Influencer  7.18\n",
      "3       Display  5.55\n",
      "4         Email  6.50\n"
     ],
     "output_type":"stream"
    }
   ],
   "metadata":{
    "datalore":{
     "node_id":"yDA5EVmRKzFG6TIxAVLCjF",
     "type":"CODE",
     "hide_input_from_viewers":false,
     "hide_output_from_viewers":false,
     "report_properties":{
      "rowId":"TQMk71SxMN9Ba7i8XmM7XV",
      "relativeY":0
     }
    }
   }
  },
  {
   "cell_type":"code",
   "source":[
    "print(df_chi_type_segment.head())"
   ],
   "execution_count":44,
   "outputs":[
    {
     "name":"stdout",
     "text":[
      "  campaign_type     customer_segment  count\n",
      "0       Display         Fashionistas   7871\n",
      "1       Display              Foodies   8210\n",
      "2       Display    Health & Wellness   7976\n",
      "3       Display  Outdoor Adventurers   8030\n",
      "4       Display     Tech Enthusiasts   7900\n"
     ],
     "output_type":"stream"
    }
   ],
   "metadata":{
    "datalore":{
     "node_id":"7fIEKVVE8vR5yeEUjcuWO8",
     "type":"CODE",
     "hide_input_from_viewers":false,
     "hide_output_from_viewers":false,
     "report_properties":{
      "rowId":"ddlwBPetAe2RB21zG6hILy",
      "relativeY":0
     }
    }
   }
  },
  {
   "cell_type":"code",
   "source":[
    "\n",
    "# contingency table chi_channel_segment\n",
    "contingency = df_chi_channel_segment.pivot(\n",
    "    index='channel_used', \n",
    "    columns='customer_segment', \n",
    "    values='count'\n",
    ").fillna(0)\n",
    "\n",
    "from scipy.stats import chi2_contingency\n",
    "\n",
    "# analysis\n",
    "[chi2, p_val, dof, expected] = chi2_contingency(contingency)\n",
    "\n",
    "# Show results\n",
    "print(f\"Chi-square statistic: {chi2:.4f}\")\n",
    "print(f\"Degrees of freedom: {dof}\")\n",
    "print(f\"P-value: {p_val:.4f}\")"
   ],
   "execution_count":45,
   "outputs":[
    {
     "name":"stdout",
     "text":[
      "Chi-square statistic: 19.1343\n",
      "Degrees of freedom: 20\n",
      "P-value: 0.5131\n"
     ],
     "output_type":"stream"
    }
   ],
   "metadata":{
    "datalore":{
     "node_id":"KQEHmx27nOPi1MZJixep2T",
     "type":"CODE",
     "hide_input_from_viewers":false,
     "hide_output_from_viewers":false,
     "report_properties":{
      "rowId":"YZX7uvMfE8hTD4FSnyMPaT",
      "relativeY":0
     }
    }
   }
  },
  {
   "cell_type":"code",
   "source":[
    "# contingency table chi_type_segment\n",
    "contingency = df_chi_type_segment.pivot(\n",
    "    index='campaign_type', \n",
    "    columns='customer_segment', \n",
    "    values='count'\n",
    ").fillna(0)\n",
    "\n",
    "from scipy.stats import chi2_contingency\n",
    "\n",
    "# analysis\n",
    "[chi2, p_val, dof, expected] = chi2_contingency(contingency)\n",
    "\n",
    "# Show results\n",
    "print(f\"Chi-square statistic: {chi2:.4f}\")\n",
    "print(f\"Degrees of freedom: {dof}\")\n",
    "print(f\"P-value: {p_val:.4f}\")"
   ],
   "execution_count":46,
   "outputs":[
    {
     "name":"stdout",
     "text":[
      "Chi-square statistic: 14.2767\n",
      "Degrees of freedom: 16\n",
      "P-value: 0.5781\n"
     ],
     "output_type":"stream"
    }
   ],
   "metadata":{
    "datalore":{
     "node_id":"Y2vSG3RJ3PHPQCIDrMSIip",
     "type":"CODE",
     "hide_input_from_viewers":false,
     "hide_output_from_viewers":false,
     "report_properties":{
      "rowId":"do2rUn0ZKBur9OwQcCov3e",
      "relativeY":0
     }
    }
   }
  },
  {
   "cell_type":"code",
   "source":[
    "# contingency table chi_channel_type\n",
    "contingency = df_chi_channel_type.pivot(\n",
    "    index='channel_used', \n",
    "    columns='campaign_type', \n",
    "    values='count'\n",
    ").fillna(0)\n",
    "\n",
    "from scipy.stats import chi2_contingency\n",
    "\n",
    "# analysis\n",
    "[chi2, p_val, dof, expected] = chi2_contingency(contingency)\n",
    "\n",
    "# Show results\n",
    "print(f\"Chi-square statistic: {chi2:.4f}\")\n",
    "print(f\"Degrees of freedom: {dof}\")\n",
    "print(f\"P-value: {p_val:.4f}\")"
   ],
   "execution_count":8,
   "outputs":[
    {
     "name":"stdout",
     "text":[
      "Chi-square statistic: 17.3612\n",
      "Degrees of freedom: 20\n",
      "P-value: 0.6294\n"
     ],
     "output_type":"stream"
    }
   ],
   "metadata":{
    "datalore":{
     "node_id":"vXNwIOLFbsoFds7hNPzcp4",
     "type":"CODE",
     "hide_input_from_viewers":false,
     "hide_output_from_viewers":false,
     "report_properties":{
      "rowId":"7kh0tVJflIfN7QnWUiszOF",
      "relativeY":0
     }
    }
   }
  },
  {
   "cell_type":"code",
   "source":[
    "from scipy.stats import f_oneway\n",
    "\n",
    "def run_anova(df, group_col, value_col):\n",
    "    groups = []\n",
    "    for name, group in df.groupby(group_col):\n",
    "        groups.append(group[value_col].dropna().values)  # handle missing values if any\n",
    "    \n",
    "    f_stat, p_val = f_oneway(*groups)\n",
    "    print(f\"ANOVA for '{value_col}' by '{group_col}':\")\n",
    "    print(f\"F-statistic: {f_stat:.4f}\")\n",
    "    print(f\"P-value: {p_val:.4f}\\n\")"
   ],
   "execution_count":7,
   "outputs":[],
   "metadata":{
    "datalore":{
     "node_id":"z8N4JM3kCGhkTWfvJGEaHf",
     "type":"CODE",
     "hide_input_from_viewers":false,
     "hide_output_from_viewers":true,
     "report_properties":{
      "rowId":"eYrefmiBPH2b8Evymmkhj2",
      "relativeY":0
     }
    }
   }
  },
  {
   "cell_type":"code",
   "source":[
    "# ANOVA 1\n",
    "run_anova(df_anova3, 'campaign_type', 'engagement_score')\n",
    "\n",
    "# ANOVA 2\n",
    "run_anova(df_anova2, 'customer_segment', 'conversion_rate')\n",
    "\n",
    "# ANOVA 3\n",
    "run_anova(df_anova, 'campaign_type', 'roi')"
   ],
   "execution_count":6,
   "outputs":[
    {
     "name":"stdout",
     "text":[
      "ANOVA for 'engagement_score' by 'campaign_type':\n",
      "F-statistic: 0.4255\n",
      "P-value: 0.7903\n",
      "\n",
      "ANOVA for 'conversion_rate' by 'customer_segment':\n",
      "F-statistic: 0.8991\n",
      "P-value: 0.4634\n",
      "\n",
      "ANOVA for 'roi' by 'campaign_type':\n",
      "F-statistic: 1.0170\n",
      "P-value: 0.3969\n",
      "\n"
     ],
     "output_type":"stream"
    }
   ],
   "metadata":{
    "datalore":{
     "node_id":"0GWVtLAm5V2arVB8AGnvsV",
     "type":"CODE",
     "hide_input_from_viewers":false,
     "hide_output_from_viewers":false,
     "report_properties":{
      "rowId":"6xjXvC6vYRltkZLAGbmPqR",
      "relativeY":0
     }
    }
   }
  },
  {
   "cell_type":"code",
   "source":[
    "from scipy.stats import chi2_contingency\n",
    "\n",
    "def run_chi_square(df, index_col, columns_col, values_col='count'):\n",
    "    \n",
    "    contingency = df.pivot(index=index_col, columns=columns_col, values=values_col).fillna(0)\n",
    "    chi2, p_val, dof, expected = chi2_contingency(contingency)\n",
    "    \n",
    "    print(f\"Chi-square Test for '{index_col}' vs '{columns_col}':\")\n",
    "    print(f\"Chi-square statistic: {chi2:.4f}\")\n",
    "    print(f\"Degrees of freedom: {dof}\")\n",
    "    print(f\"P-value: {p_val:.4f}\\n\")\n",
    "\n",
    "# Chi-square Test 1\n",
    "run_chi_square(df_chi_channel_segment, 'channel_used', 'customer_segment')\n",
    "\n",
    "# Chi-square Test 2\n",
    "run_chi_square(df_chi_type_segment, 'campaign_type', 'customer_segment')\n",
    "\n",
    "# Chi-square Test 3\n",
    "run_chi_square(df_chi_channel_type, 'channel_used', 'campaign_type')"
   ],
   "execution_count":4,
   "outputs":[
    {
     "name":"stdout",
     "text":[
      "Chi-square Test for 'channel_used' vs 'customer_segment':\n",
      "Chi-square statistic: 19.1343\n",
      "Degrees of freedom: 20\n",
      "P-value: 0.5131\n",
      "\n",
      "Chi-square Test for 'campaign_type' vs 'customer_segment':\n",
      "Chi-square statistic: 14.2767\n",
      "Degrees of freedom: 16\n",
      "P-value: 0.5781\n",
      "\n",
      "Chi-square Test for 'channel_used' vs 'campaign_type':\n",
      "Chi-square statistic: 17.3612\n",
      "Degrees of freedom: 20\n",
      "P-value: 0.6294\n",
      "\n"
     ],
     "output_type":"stream"
    }
   ],
   "metadata":{
    "datalore":{
     "node_id":"mEmTy8UyxQgT69iDsnyuff",
     "type":"CODE",
     "hide_input_from_viewers":false,
     "hide_output_from_viewers":false,
     "report_properties":{
      "rowId":"gCceMe0tTq5WK4EGfgn63X",
      "relativeY":0
     }
    }
   }
  }
 ],
 "metadata":{
  "kernelspec":{
   "display_name":"Python",
   "language":"python",
   "name":"python"
  },
  "datalore":{
   "computation_mode":"JUPYTER",
   "package_manager":"pip",
   "base_environment":"default",
   "packages":[],
   "report_row_ids":[],
   "report_tabs":[
    {
     "id":"MvrsuoVezNGkvUY1TmXA00",
     "name":"Report tab",
     "rows":[
      "YrISyUtxL4XrdLiQQs8MDf",
      "TQMk71SxMN9Ba7i8XmM7XV",
      "ddlwBPetAe2RB21zG6hILy",
      "YZX7uvMfE8hTD4FSnyMPaT",
      "do2rUn0ZKBur9OwQcCov3e",
      "7kh0tVJflIfN7QnWUiszOF",
      "eYrefmiBPH2b8Evymmkhj2",
      "6xjXvC6vYRltkZLAGbmPqR",
      "gCceMe0tTq5WK4EGfgn63X"
     ]
    }
   ],
   "report_link":"https:\/\/datalore.jetbrains.com\/report\/MJ3pdXnJdmb1L4Rq8Eh6PE\/OBk3fzkP2Z3eTb1Q1P27TC",
   "version":4
  }
 },
 "nbformat":4,
 "nbformat_minor":4
}