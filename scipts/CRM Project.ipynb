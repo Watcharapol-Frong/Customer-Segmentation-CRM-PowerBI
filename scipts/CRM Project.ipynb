{
 "cells":[
  {
   "cell_type":"code",
   "source":[
    "import pandas as pd\n",
    "\n",
    "df_chi = pd.read_csv('\/data\/notebook_files\/data\/chi_contingency_table.csv')\n",
    "df_chi2 = pd.read_csv('\/data\/notebook_files\/data\/chi_test_type_segment.csv')\n",
    "df_chi3 = pd.read_csv('\/data\/notebook_files\/data\/chi_test_channel_type.csv')\n",
    "df_anova = pd.read_csv('\/data\/notebook_files\/data\/anova_channel_conversion.csv')\n",
    "df_anova2 = pd.read_csv('\/data\/notebook_files\/data\/anova_segment_rate.csv')\n",
    "df_anova3 = pd.read_csv('\/data\/notebook_files\/data\/anova_type_score.csv')"
   ],
   "execution_count":1,
   "outputs":[],
   "metadata":{
    "datalore":{
     "node_id":"TtIAQ3ofLLzpsIpVkkLiBh",
     "type":"CODE",
     "hide_input_from_viewers":false,
     "hide_output_from_viewers":false,
     "report_properties":{
      "rowId":"YrISyUtxL4XrdLiQQs8MDf"
     }
    }
   }
  },
  {
   "cell_type":"code",
   "source":[
    "print(df_anova3.head())"
   ],
   "execution_count":2,
   "outputs":[
    {
     "name":"stdout",
     "text":[
      "  campaign_type  engagement_score\n",
      "0         Email                 6\n",
      "1         Email                 7\n",
      "2    Influencer                 1\n",
      "3       Display                 7\n",
      "4         Email                 3\n"
     ],
     "output_type":"stream"
    }
   ],
   "metadata":{
    "datalore":{
     "node_id":"yDA5EVmRKzFG6TIxAVLCjF",
     "type":"CODE",
     "hide_input_from_viewers":false,
     "hide_output_from_viewers":false,
     "report_properties":{
      "rowId":"TQMk71SxMN9Ba7i8XmM7XV"
     }
    }
   }
  },
  {
   "cell_type":"code",
   "source":[
    "print(df_chi3.head())"
   ],
   "execution_count":3,
   "outputs":[
    {
     "name":"stdout",
     "text":[
      "  channel_used campaign_type  count\n",
      "0        Email       Display   6701\n",
      "1        Email         Email   6760\n",
      "2        Email    Influencer   6698\n",
      "3        Email        Search   6718\n",
      "4        Email  Social Media   6722\n"
     ],
     "output_type":"stream"
    }
   ],
   "metadata":{
    "datalore":{
     "node_id":"7fIEKVVE8vR5yeEUjcuWO8",
     "type":"CODE",
     "hide_input_from_viewers":false,
     "hide_output_from_viewers":false,
     "report_properties":{
      "rowId":"ddlwBPetAe2RB21zG6hILy"
     }
    }
   }
  },
  {
   "cell_type":"code",
   "source":[
    "# contingency table\n",
    "contingency = df_chi3.pivot(\n",
    "    index='channel_used', \n",
    "    columns='campaign_type', \n",
    "    values='count'\n",
    ").fillna(0)"
   ],
   "execution_count":4,
   "outputs":[],
   "metadata":{
    "datalore":{
     "node_id":"szYdtWC3uUTJZ5uDW2uR6P",
     "type":"CODE",
     "hide_input_from_viewers":false,
     "hide_output_from_viewers":false,
     "report_properties":{
      "rowId":"om5ktbJLhv1EHGxXXbk06i"
     }
    }
   }
  },
  {
   "cell_type":"code",
   "source":[
    "contingency.head()"
   ],
   "execution_count":5,
   "outputs":[
    {
     "data":{
      "text\/html":[
       "<div>\n",
       "<style scoped>\n",
       "    .dataframe tbody tr th:only-of-type {\n",
       "        vertical-align: middle;\n",
       "    }\n",
       "\n",
       "    .dataframe tbody tr th {\n",
       "        vertical-align: top;\n",
       "    }\n",
       "\n",
       "    .dataframe thead th {\n",
       "        text-align: right;\n",
       "    }\n",
       "<\/style>\n",
       "<table border=\"1\" class=\"dataframe\">\n",
       "  <thead>\n",
       "    <tr style=\"text-align: right;\">\n",
       "      <th>campaign_type<\/th>\n",
       "      <th>Display<\/th>\n",
       "      <th>Email<\/th>\n",
       "      <th>Influencer<\/th>\n",
       "      <th>Search<\/th>\n",
       "      <th>Social Media<\/th>\n",
       "    <\/tr>\n",
       "    <tr>\n",
       "      <th>channel_used<\/th>\n",
       "      <th><\/th>\n",
       "      <th><\/th>\n",
       "      <th><\/th>\n",
       "      <th><\/th>\n",
       "      <th><\/th>\n",
       "    <\/tr>\n",
       "  <\/thead>\n",
       "  <tbody>\n",
       "    <tr>\n",
       "      <th>Email<\/th>\n",
       "      <td>6701<\/td>\n",
       "      <td>6760<\/td>\n",
       "      <td>6698<\/td>\n",
       "      <td>6718<\/td>\n",
       "      <td>6722<\/td>\n",
       "    <\/tr>\n",
       "    <tr>\n",
       "      <th>Facebook<\/th>\n",
       "      <td>6628<\/td>\n",
       "      <td>6589<\/td>\n",
       "      <td>6548<\/td>\n",
       "      <td>6488<\/td>\n",
       "      <td>6566<\/td>\n",
       "    <\/tr>\n",
       "    <tr>\n",
       "      <th>Google Ads<\/th>\n",
       "      <td>6590<\/td>\n",
       "      <td>6689<\/td>\n",
       "      <td>6764<\/td>\n",
       "      <td>6720<\/td>\n",
       "      <td>6675<\/td>\n",
       "    <\/tr>\n",
       "    <tr>\n",
       "      <th>Instagram<\/th>\n",
       "      <td>6724<\/td>\n",
       "      <td>6640<\/td>\n",
       "      <td>6736<\/td>\n",
       "      <td>6623<\/td>\n",
       "      <td>6669<\/td>\n",
       "    <\/tr>\n",
       "    <tr>\n",
       "      <th>Website<\/th>\n",
       "      <td>6622<\/td>\n",
       "      <td>6611<\/td>\n",
       "      <td>6650<\/td>\n",
       "      <td>6899<\/td>\n",
       "      <td>6578<\/td>\n",
       "    <\/tr>\n",
       "  <\/tbody>\n",
       "<\/table>\n",
       "<\/div>"
      ]
     },
     "metadata":{},
     "output_type":"display_data"
    }
   ],
   "metadata":{
    "datalore":{
     "node_id":"0MEYKDhXmTyMry8Cf7KcLd",
     "type":"CODE",
     "hide_input_from_viewers":false,
     "hide_output_from_viewers":false,
     "report_properties":{
      "rowId":"Jow2se7fXtCgx1j9OQhafY"
     }
    }
   }
  },
  {
   "cell_type":"code",
   "source":[
    "from scipy.stats import chi2_contingency\n",
    "\n",
    "# analysis\n",
    "[chi2, p_val, dof, expected] = chi2_contingency(contingency)\n",
    "\n",
    "# Show results\n",
    "print(f\"Chi-square statistic: {chi2:.4f}\")\n",
    "print(f\"Degrees of freedom: {dof}\")\n",
    "print(f\"P-value: {p_val:.4f}\")"
   ],
   "execution_count":6,
   "outputs":[
    {
     "name":"stdout",
     "text":[
      "Chi-square statistic: 17.3612\n",
      "Degrees of freedom: 20\n",
      "P-value: 0.6294\n"
     ],
     "output_type":"stream"
    }
   ],
   "metadata":{
    "datalore":{
     "node_id":"KQEHmx27nOPi1MZJixep2T",
     "type":"CODE",
     "hide_input_from_viewers":false,
     "hide_output_from_viewers":false,
     "report_properties":{
      "rowId":"YZX7uvMfE8hTD4FSnyMPaT"
     }
    }
   }
  },
  {
   "cell_type":"code",
   "source":[
    "from scipy.stats import f_oneway\n",
    "\n",
    "# Group by campaign type\n",
    "groups = []\n",
    "for name, group in df_anova3.groupby('campaign_type'):\n",
    "    groups.append(group['engagement_score'].values)\n",
    "\n",
    "f_stat, p_val = f_oneway(*groups)\n",
    "\n",
    "print(f\"F-statistic: {f_stat:.4f}\")\n",
    "print(f\"P-value: {p_val:.4f}\")"
   ],
   "execution_count":7,
   "outputs":[
    {
     "name":"stdout",
     "text":[
      "F-statistic: 0.4255\n",
      "P-value: 0.7903\n"
     ],
     "output_type":"stream"
    }
   ],
   "metadata":{
    "datalore":{
     "node_id":"aJnt5S7zEj2cz1mXo16o53",
     "type":"CODE",
     "hide_input_from_viewers":false,
     "hide_output_from_viewers":false,
     "report_properties":{
      "rowId":"ou4wN4fPxEJHQMLTJqTYLg"
     }
    }
   }
  }
 ],
 "metadata":{
  "kernelspec":{
   "display_name":"Python",
   "language":"python",
   "name":"python"
  },
  "datalore":{
   "computation_mode":"JUPYTER",
   "package_manager":"pip",
   "base_environment":"default",
   "packages":[],
   "report_row_ids":[],
   "report_tabs":[
    {
     "id":"MvrsuoVezNGkvUY1TmXA00",
     "name":"Report tab",
     "rows":[
      "YrISyUtxL4XrdLiQQs8MDf",
      "TQMk71SxMN9Ba7i8XmM7XV",
      "ddlwBPetAe2RB21zG6hILy",
      "om5ktbJLhv1EHGxXXbk06i",
      "Jow2se7fXtCgx1j9OQhafY",
      "YZX7uvMfE8hTD4FSnyMPaT",
      "ou4wN4fPxEJHQMLTJqTYLg"
     ]
    }
   ],
   "version":4
  }
 },
 "nbformat":4,
 "nbformat_minor":4
}